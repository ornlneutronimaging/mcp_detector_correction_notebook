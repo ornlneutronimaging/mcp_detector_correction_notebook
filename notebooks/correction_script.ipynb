{
 "cells": [
  {
   "cell_type": "code",
   "execution_count": 125,
   "metadata": {},
   "outputs": [],
   "source": [
    "import numpy as np\n",
    "import pandas as pd\n",
    "from pathlib import Path\n",
    "import glob\n",
    "\n",
    "import matplotlib.pyplot as plt\n",
    "%matplotlib notebook\n",
    "\n",
    "from NeuNorm.normalization import Normalization"
   ]
  },
  {
   "cell_type": "markdown",
   "metadata": {},
   "source": [
    "# Instructions "
   ]
  },
  {
   "cell_type": "markdown",
   "metadata": {},
   "source": [
    "Here we define the only 2 input parameters to the program\n",
    " * input_folder\n",
    " * output_folder"
   ]
  },
  {
   "cell_type": "code",
   "execution_count": 4,
   "metadata": {},
   "outputs": [],
   "source": [
    "input_folder = \"data/raw_data/\"\n",
    "assert Path(input_folder).exists()"
   ]
  },
  {
   "cell_type": "code",
   "execution_count": 5,
   "metadata": {},
   "outputs": [],
   "source": [
    "output_folder = 'data/corrected_data_calculated'\n",
    "assert Path(output_folder).exists()"
   ]
  },
  {
   "cell_type": "markdown",
   "metadata": {},
   "source": [
    "# Setup "
   ]
  },
  {
   "cell_type": "code",
   "execution_count": 36,
   "metadata": {},
   "outputs": [],
   "source": [
    "shutter_dict = {}"
   ]
  },
  {
   "cell_type": "markdown",
   "metadata": {},
   "source": [
    "### ShutterCount.txt \n",
    "\n",
    "First, the program will locate, in that folder, the file names that ends by *_ShutterCount.txt* and read it in order to isolate the number of count for each shutter.\n",
    "\n",
    "__Handling errors__: If file can not be located, error should be raised (\"Missing ShutterCount.txt in folder\")"
   ]
  },
  {
   "cell_type": "code",
   "execution_count": 37,
   "metadata": {},
   "outputs": [],
   "source": [
    "shutter_count_file = glob.glob(input_folder + '/*_ShutterCount.txt')[0]\n",
    "assert Path(shutter_count_file).exists()"
   ]
  },
  {
   "cell_type": "code",
   "execution_count": 38,
   "metadata": {},
   "outputs": [],
   "source": [
    "shutter_count_pd = pd.read_csv(shutter_count_file, sep='\\t', names=['shutter_index', \n",
    "                                                                    'shutter_counts'])\n",
    "\n",
    "# isolate only the shutter counts\n",
    "shutter_counts = shutter_count_pd['shutter_counts']\n",
    "for shutter_index, shutter_counts in enumerate(shutter_counts):\n",
    "    if shutter_counts == 0:\n",
    "        break\n",
    "    shutter_dict[shutter_index] = {'counts': shutter_counts}"
   ]
  },
  {
   "cell_type": "markdown",
   "metadata": {},
   "source": [
    "### ShutterTimes.txt"
   ]
  },
  {
   "cell_type": "markdown",
   "metadata": {},
   "source": [
    "This file needs to be retrieved and read as well in order to figure out when the various frames start and end (in microS)"
   ]
  },
  {
   "cell_type": "code",
   "execution_count": 32,
   "metadata": {},
   "outputs": [],
   "source": [
    "shutter_time_file = glob.glob(input_folder + '/*_ShutterTimes.txt')[0]\n",
    "assert Path(shutter_time_file).exists()"
   ]
  },
  {
   "cell_type": "code",
   "execution_count": 112,
   "metadata": {},
   "outputs": [],
   "source": [
    "shutter_time_pd = pd.read_csv(shutter_time_file, sep='\\t', names=['shutter_index',\n",
    "                                                                 'start_frame',\n",
    "                                                                 'end_frame'])\n",
    "# isolate only the start and end\n",
    "shutter_start_time = shutter_time_pd['start_frame']\n",
    "shutter_end_time = shutter_time_pd['end_frame']\n",
    "\n",
    "global_offset = 0\n",
    "for shutter_index, start_time in enumerate(shutter_start_time):\n",
    "    if shutter_end_time[shutter_index] == 0:\n",
    "        break\n",
    "    shutter_dict[shutter_index]['start_time'] = start_time + global_offset\n",
    "    global_offset += start_time\n",
    "    shutter_dict[shutter_index]['end_time'] = shutter_end_time[shutter_index] + global_offset\n",
    "    global_offset += shutter_end_time[shutter_index]"
   ]
  },
  {
   "cell_type": "markdown",
   "metadata": {},
   "source": [
    "### Spectra.txt"
   ]
  },
  {
   "cell_type": "code",
   "execution_count": 113,
   "metadata": {},
   "outputs": [],
   "source": [
    "spectra_file = glob.glob(input_folder + '/*_Spectra.txt')[0]\n",
    "assert Path(spectra_file).exists()"
   ]
  },
  {
   "cell_type": "code",
   "execution_count": 114,
   "metadata": {},
   "outputs": [],
   "source": [
    "spectra_file_pd = pd.read_csv(spectra_file, sep='\\t', names=['shutter_time',\n",
    "                                                             'counts'])\n",
    "\n",
    "#we are really only interested by the first column\n",
    "spectra_time_array = np.array(spectra_file_pd['shutter_time'])"
   ]
  },
  {
   "cell_type": "markdown",
   "metadata": {},
   "source": [
    "### When does each frame starts and ends?"
   ]
  },
  {
   "cell_type": "markdown",
   "metadata": {},
   "source": [
    "We will use the data retrieve in the specta.txt and ShutterTimes.txt to figure out which file belongs to which frame"
   ]
  },
  {
   "cell_type": "code",
   "execution_count": 115,
   "metadata": {},
   "outputs": [],
   "source": [
    "def find_nearest_index(array, value):\n",
    "    perfect_match = (0 in (np.abs(np.array(array) - value)))\n",
    "    idx = (np.abs(np.array(array) - value)).argmin()\n",
    "    return perfect_match, idx"
   ]
  },
  {
   "cell_type": "code",
   "execution_count": 116,
   "metadata": {},
   "outputs": [],
   "source": [
    "for _frame_index in shutter_dict.keys():\n",
    "    start_time = shutter_dict[_frame_index]['start_time']\n",
    "    perfect_match, nearest_start_index = find_nearest_index(spectra_time_array, start_time)\n",
    "    # for start index, no need to check for perfect match as we always get the next index (if not perfect match)\n",
    "    shutter_dict[_frame_index]['start_index'] = nearest_start_index\n",
    "\n",
    "    end_time = shutter_dict[_frame_index]['end_time']\n",
    "    perfect_match, nearest_end_index = find_nearest_index(spectra_time_array, end_time)\n",
    "    # we need to check for perfect match or not. if not, we need to use the previous index\n",
    "    nearest_index = nearest_end_index if perfect_match else nearest_end_index - 1\n",
    "    shutter_dict[_frame_index]['end_index'] = nearest_index"
   ]
  },
  {
   "cell_type": "markdown",
   "metadata": {},
   "source": [
    "# Recap "
   ]
  },
  {
   "cell_type": "code",
   "execution_count": 131,
   "metadata": {},
   "outputs": [
    {
     "name": "stdout",
     "output_type": "stream",
     "text": [
      "{0: {'counts': 433151,\n",
      "     'end_index': 242,\n",
      "     'end_time': 0.00249952,\n",
      "     'start_index': 0,\n",
      "     'start_time': 9.6e-07},\n",
      " 1: {'counts': 445394,\n",
      "     'end_index': 525,\n",
      "     'end_time': 0.00579792,\n",
      "     'start_index': 244,\n",
      "     'start_time': 0.0029},\n",
      " 2: {'counts': 446435,\n",
      "     'end_index': 1472,\n",
      "     'end_time': 0.01589728,\n",
      "     'start_index': 527,\n",
      "     'start_time': 0.0062}}\n"
     ]
    }
   ],
   "source": [
    "import pprint\n",
    "pprint.pprint(shutter_dict)"
   ]
  },
  {
   "cell_type": "markdown",
   "metadata": {},
   "source": [
    "## Load images "
   ]
  },
  {
   "cell_type": "code",
   "execution_count": 120,
   "metadata": {},
   "outputs": [],
   "source": [
    "list_input_files = glob.glob(input_folder + '/*.fits')\n",
    "\n",
    "# removing _SummedImg.fits\n",
    "clean_list_input_files = []\n",
    "for _file in list_input_files:\n",
    "    if \"_SummedImg.fits\" in _file:\n",
    "        continue\n",
    "    clean_list_input_files.append(_file)"
   ]
  },
  {
   "cell_type": "code",
   "execution_count": 127,
   "metadata": {},
   "outputs": [
    {
     "data": {
      "application/vnd.jupyter.widget-view+json": {
       "model_id": "",
       "version_major": 2,
       "version_minor": 0
      },
      "text/plain": [
       "HBox(children=(Label(value='Loading sample', layout=Layout(width='20%')), IntProgress(value=0, max=1475), Labe…"
      ]
     },
     "metadata": {},
     "output_type": "display_data"
    }
   ],
   "source": [
    "o_norm = Normalization()\n",
    "o_norm.load(file=list_input_files, notebook=True)"
   ]
  },
  {
   "cell_type": "markdown",
   "metadata": {},
   "source": [
    "# Code "
   ]
  },
  {
   "cell_type": "code",
   "execution_count": 128,
   "metadata": {},
   "outputs": [],
   "source": [
    "raw_data = o_norm.data['sample']['data']\n",
    "pixel_occupancy_probablity = []"
   ]
  },
  {
   "cell_type": "code",
   "execution_count": null,
   "metadata": {},
   "outputs": [],
   "source": [
    "for shutter_index in shutter_dict.keys():\n",
    "    "
   ]
  }
 ],
 "metadata": {
  "kernelspec": {
   "display_name": "Python 3",
   "language": "python",
   "name": "python3"
  },
  "language_info": {
   "codemirror_mode": {
    "name": "ipython",
    "version": 3
   },
   "file_extension": ".py",
   "mimetype": "text/x-python",
   "name": "python",
   "nbconvert_exporter": "python",
   "pygments_lexer": "ipython3",
   "version": "3.6.10"
  }
 },
 "nbformat": 4,
 "nbformat_minor": 4
}
